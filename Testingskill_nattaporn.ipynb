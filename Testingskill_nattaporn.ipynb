{
  "nbformat": 4,
  "nbformat_minor": 0,
  "metadata": {
    "colab": {
      "provenance": [],
      "authorship_tag": "ABX9TyOXkvc885XNLmxG7cUH0lac",
      "include_colab_link": true
    },
    "kernelspec": {
      "name": "python3",
      "display_name": "Python 3"
    },
    "language_info": {
      "name": "python"
    }
  },
  "cells": [
    {
      "cell_type": "markdown",
      "metadata": {
        "id": "view-in-github",
        "colab_type": "text"
      },
      "source": [
        "<a href=\"https://colab.research.google.com/github/nattaporn6504101328/C1Lab3/blob/main/Testingskill_nattaporn.ipynb\" target=\"_parent\"><img src=\"https://colab.research.google.com/assets/colab-badge.svg\" alt=\"Open In Colab\"/></a>"
      ]
    },
    {
      "cell_type": "code",
      "source": [
        "import pandas as pd\n",
        "\n",
        "daily_files = [\n",
        "    '/content/Daily_report_20250115_Pattama_Sooksan.xls',\n",
        "    '/content/Daily_report_20250115_Raewwadee_Jaidee.xls'\n",
        "]\n",
        "\n",
        "daily_data = []\n",
        "\n",
        "for file in daily_files:\n",
        "    data = pd.read_excel(file)\n",
        "    team_member = file.split('_')[2] + ' ' + file.split('_')[3].replace('.xls', '').replace('_', ' ')\n",
        "    data['Team Member'] = team_member\n",
        "    daily_data.append(data)\n",
        "\n",
        "daily_reports = pd.concat(daily_data, ignore_index=True)\n",
        "\n",
        "new_employee_file = '/content/New_Employee_YYYYMM.xls'\n",
        "new_employees = pd.read_excel(new_employee_file)\n",
        "\n",
        "dashboard = pd.DataFrame(columns=['Employee Name', 'Join Date', 'Role', 'Team Member'])\n",
        "\n",
        "dashboard_data = []\n",
        "for _, new_employee in new_employees.iterrows():\n",
        "    for _, daily_report in daily_reports.iterrows():\n",
        "        if new_employee['Employee Name'] == daily_report['Candidate Name'] and new_employee['Role'] == daily_report['Role']:\n",
        "            dashboard_data.append({\n",
        "                'Employee Name': new_employee['Employee Name'],\n",
        "                'Join Date': new_employee['Join Date'],\n",
        "                'Role': new_employee['Role'],\n",
        "                'Team Member': daily_report['Team Member']\n",
        "            })\n",
        "\n",
        "#ตรงนี้คือ ผลลัพท์มันไม่ออกตามตารางเลยไม่รู้จะทำยังไงเลยหามิสซิ่งแวลู่มาใส่แทนค่ะ\n",
        "missing_data = []\n",
        "for _, new_employee in new_employees.iterrows():\n",
        "    match = False\n",
        "    for _, daily_report in daily_reports.iterrows():\n",
        "        if new_employee['Employee Name'] == daily_report['Candidate Name'] and new_employee['Role'] == daily_report['Role']:\n",
        "            match = True\n",
        "            break\n",
        "    if not match:\n",
        "        missing_data.append({\n",
        "            'Employee Name': new_employee['Employee Name'],\n",
        "            'Join Date': new_employee['Join Date'],\n",
        "            'Role': new_employee['Role'],\n",
        "            'Team Member': 'Missing'\n",
        "        })\n",
        "\n",
        "\n",
        "final_dashboard = pd.DataFrame( missing_data + dashboard_data)\n",
        "\n",
        "final_dashboard.to_excel('/content/Dashboard_Report.xlsx', index=False)\n",
        "print(final_dashboard)\n"
      ],
      "metadata": {
        "colab": {
          "base_uri": "https://localhost:8080/"
        },
        "id": "CAl8nghn4apR",
        "outputId": "0d793148-9035-403e-bb03-7ff543e16fd7"
      },
      "execution_count": 3,
      "outputs": [
        {
          "output_type": "stream",
          "name": "stdout",
          "text": [
            "  Employee Name  Join Date                 Role         Team Member\n",
            "0          Mr.A 2025-02-03         Data Analyst             Missing\n",
            "1          Ms.D 2025-02-17  Project Coordinator  20250115 Raewwadee\n"
          ]
        }
      ]
    }
  ]
}